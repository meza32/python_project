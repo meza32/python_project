{
 "cells": [
  {
   "cell_type": "markdown",
   "id": "853f25b5",
   "metadata": {},
   "source": [
    "Given an array nums containing n distinct numbers in the range [0, n], return the only number in the range that is missing from the array.\n",
    "\n",
    " "
   ]
  },
  {
   "cell_type": "markdown",
   "id": "5df51b57",
   "metadata": {},
   "source": [
    "Example 1:\n",
    "\n",
    "Input: nums = [3,0,1]\n",
    "\n",
    "Output: 2\n",
    "\n",
    "Explanation: n = 3 since there are 3 numbers, so all numbers are in the range [0,3]. \n",
    "2 is the missing number in the range since it does not appear in nums."
   ]
  },
  {
   "cell_type": "markdown",
   "id": "d996fc19",
   "metadata": {},
   "source": [
    "Example 2:\n",
    "\n",
    "Input: nums = [0,1]\n",
    "\n",
    "Output: 2\n",
    "\n",
    "Explanation: n = 2 since there are 2 numbers, so all numbers are in the range [0,2]. 2 is the missing number in the range since it does not appear in nums."
   ]
  },
  {
   "cell_type": "code",
   "execution_count": 55,
   "id": "7ec5afb9",
   "metadata": {},
   "outputs": [],
   "source": [
    "def missing(nums):\n",
    "    len_nums = len(nums)\n",
    "    a = set(nums) ^ set(range(len_nums))\n",
    "    return list(a)[0] if a else len_nums"
   ]
  },
  {
   "cell_type": "code",
   "execution_count": 59,
   "id": "c10e9ef9",
   "metadata": {},
   "outputs": [
    {
     "data": {
      "text/plain": [
       "2"
      ]
     },
     "execution_count": 59,
     "metadata": {},
     "output_type": "execute_result"
    }
   ],
   "source": [
    "nums=[0,1]\n",
    "missing(nums)"
   ]
  },
  {
   "cell_type": "code",
   "execution_count": null,
   "id": "c6f9a717",
   "metadata": {},
   "outputs": [],
   "source": []
  },
  {
   "cell_type": "code",
   "execution_count": 57,
   "id": "e2da26b1",
   "metadata": {},
   "outputs": [],
   "source": []
  },
  {
   "cell_type": "code",
   "execution_count": null,
   "id": "5d2d2ff9",
   "metadata": {},
   "outputs": [],
   "source": [
    "\n"
   ]
  },
  {
   "cell_type": "code",
   "execution_count": null,
   "id": "c1191cd3",
   "metadata": {},
   "outputs": [],
   "source": []
  }
 ],
 "metadata": {
  "kernelspec": {
   "display_name": "Python 3",
   "language": "python",
   "name": "python3"
  },
  "language_info": {
   "codemirror_mode": {
    "name": "ipython",
    "version": 3
   },
   "file_extension": ".py",
   "mimetype": "text/x-python",
   "name": "python",
   "nbconvert_exporter": "python",
   "pygments_lexer": "ipython3",
   "version": "3.8.8"
  }
 },
 "nbformat": 4,
 "nbformat_minor": 5
}
