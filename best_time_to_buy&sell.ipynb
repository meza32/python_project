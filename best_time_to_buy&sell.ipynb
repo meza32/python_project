{
 "cells": [
  {
   "cell_type": "markdown",
   "id": "7e571f36",
   "metadata": {},
   "source": [
    "You are given an array prices where prices[i] is the price of a given stock on the ith day.\n",
    "\n",
    "You want to maximize your profit by choosing a single day to buy one stock and choosing a different day in the future to sell that stock.\n",
    "\n",
    "Return the maximum profit you can achieve from this transaction. If you cannot achieve any profit, return 0.\n",
    "\n",
    " \n",
    "\n",
    "Example 1:\n",
    "\n",
    "Input: prices = [7,1,5,3,6,4]\n",
    "Output: 5\n",
    "Explanation: Buy on day 2 (price = 1) and sell on day 5 (price = 6), profit = 6-1 = 5.\n",
    "Note that buying on day 2 and selling on day 1 is not allowed because you must buy before you sell.\n",
    "Example 2:\n",
    "\n",
    "Input: prices = [7,6,4,3,1]\n",
    "Output: 0\n",
    "Explanation: In this case, no transactions are done and the max profit = 0.\n",
    " \n",
    "\n",
    "Constraints:\n",
    "\n",
    "1 <= prices.length <= 105\n",
    "0 <= prices[i] <= 104"
   ]
  },
  {
   "cell_type": "code",
   "execution_count": 2,
   "id": "3ca32726",
   "metadata": {},
   "outputs": [],
   "source": [
    "def maxprofit(prices):\n",
    "    left = 0 #Buy\n",
    "    right = 1 #Sell\n",
    "    max_profit = 0\n",
    "    while right < len(prices):\n",
    "        currentProfit = prices[right] - prices[left] #our current Profit\n",
    "        if prices[left] < prices[right]:\n",
    "            max_profit =max(currentProfit,max_profit)\n",
    "        else:\n",
    "            left = right\n",
    "        right += 1\n",
    "    return max_profit"
   ]
  },
  {
   "cell_type": "code",
   "execution_count": 3,
   "id": "ab9ed762",
   "metadata": {},
   "outputs": [
    {
     "data": {
      "text/plain": [
       "6"
      ]
     },
     "execution_count": 3,
     "metadata": {},
     "output_type": "execute_result"
    }
   ],
   "source": [
    "prices = [7,2,3,8,7,2,6]\n",
    "maxprofit(prices)"
   ]
  }
 ],
 "metadata": {
  "kernelspec": {
   "display_name": "Python 3",
   "language": "python",
   "name": "python3"
  },
  "language_info": {
   "codemirror_mode": {
    "name": "ipython",
    "version": 3
   },
   "file_extension": ".py",
   "mimetype": "text/x-python",
   "name": "python",
   "nbconvert_exporter": "python",
   "pygments_lexer": "ipython3",
   "version": "3.8.8"
  }
 },
 "nbformat": 4,
 "nbformat_minor": 5
}
