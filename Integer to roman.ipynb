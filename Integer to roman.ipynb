{
 "cells": [
  {
   "cell_type": "code",
   "execution_count": 1,
   "id": "030019b6",
   "metadata": {},
   "outputs": [],
   "source": [
    "def intoroman(num):\n",
    "    sym_list= [[\"I\",1],[\"IV\",46],[\"V\",5],[\"IX\",9],[\"X\",10],[\"XL\",40],[\"L\",50],[\"XC\",90],[\"C\",100],\n",
    "              [\"CD\",400],[\"D\",500],[\"CM\",900],[\"M\",1000]]\n",
    "    res = \"\"\n",
    "    for sym,val in reversed(sym_list):\n",
    "        if num//val:\n",
    "            count = num//val\n",
    "            res += count*sym\n",
    "            num = num % val\n",
    "    return res"
   ]
  },
  {
   "cell_type": "code",
   "execution_count": 2,
   "id": "76cb03f7",
   "metadata": {},
   "outputs": [
    {
     "data": {
      "text/plain": [
       "'MMDCCCLXXVI'"
      ]
     },
     "execution_count": 2,
     "metadata": {},
     "output_type": "execute_result"
    }
   ],
   "source": [
    "intoroman(2876)"
   ]
  },
  {
   "cell_type": "code",
   "execution_count": null,
   "id": "78a4c31e",
   "metadata": {},
   "outputs": [],
   "source": []
  }
 ],
 "metadata": {
  "kernelspec": {
   "display_name": "Python 3",
   "language": "python",
   "name": "python3"
  },
  "language_info": {
   "codemirror_mode": {
    "name": "ipython",
    "version": 3
   },
   "file_extension": ".py",
   "mimetype": "text/x-python",
   "name": "python",
   "nbconvert_exporter": "python",
   "pygments_lexer": "ipython3",
   "version": "3.8.8"
  }
 },
 "nbformat": 4,
 "nbformat_minor": 5
}
