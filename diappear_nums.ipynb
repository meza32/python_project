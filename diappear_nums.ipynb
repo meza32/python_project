{
 "cells": [
  {
   "cell_type": "markdown",
   "id": "d4fa3d48",
   "metadata": {},
   "source": [
    "Given an array nums of n integers where nums[i] is in the range [1, n], return an array of all the integers in the range [1, n] that do not appear in nums.\n",
    "\n",
    " \n",
    "\n",
    "Example 1:\n",
    "\n",
    "Input: nums = [4,3,2,7,8,2,3,1]\n",
    "\n",
    "Output: [5,6]\n",
    "\n",
    "Example 2:\n",
    "\n",
    "Input: nums = [1,1]\n",
    "\n",
    "Output: [2]"
   ]
  },
  {
   "cell_type": "code",
   "execution_count": 36,
   "id": "89f2d734",
   "metadata": {},
   "outputs": [],
   "source": [
    "def disapp(nums):\n",
    "    \n",
    "    return list(set(range(1,len(nums)+1)) - set(nums))\n"
   ]
  },
  {
   "cell_type": "code",
   "execution_count": null,
   "id": "a70657bc",
   "metadata": {},
   "outputs": [],
   "source": []
  }
 ],
 "metadata": {
  "kernelspec": {
   "display_name": "Python 3",
   "language": "python",
   "name": "python3"
  },
  "language_info": {
   "codemirror_mode": {
    "name": "ipython",
    "version": 3
   },
   "file_extension": ".py",
   "mimetype": "text/x-python",
   "name": "python",
   "nbconvert_exporter": "python",
   "pygments_lexer": "ipython3",
   "version": "3.8.8"
  }
 },
 "nbformat": 4,
 "nbformat_minor": 5
}
