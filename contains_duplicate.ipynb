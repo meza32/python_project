{
 "cells": [
  {
   "cell_type": "markdown",
   "id": "d33c9a60",
   "metadata": {},
   "source": [
    "Given an integer array nums, return true if any value appears at least twice in the array, and return false if every element is distinct.\n",
    "\n",
    " \n",
    "\n",
    "Example :\n",
    "\n",
    "Input: nums = [1,2,3,1]\n",
    "\n",
    "Output: true"
   ]
  },
  {
   "cell_type": "code",
   "execution_count": 1,
   "id": "380ed43c",
   "metadata": {},
   "outputs": [],
   "source": [
    "def duplicate(nums):\n",
    "    return nums!=list(dict.fromkeys(nums))"
   ]
  },
  {
   "cell_type": "code",
   "execution_count": 3,
   "id": "7135b039",
   "metadata": {},
   "outputs": [],
   "source": [
    "nums = [1,2,3,3,5,6,7,6]\n"
   ]
  },
  {
   "cell_type": "code",
   "execution_count": 3,
   "id": "61707e45",
   "metadata": {},
   "outputs": [
    {
     "data": {
      "text/plain": [
       "True"
      ]
     },
     "execution_count": 3,
     "metadata": {},
     "output_type": "execute_result"
    }
   ],
   "source": [
    "duplicate(nums)"
   ]
  },
  {
   "cell_type": "markdown",
   "id": "55b32386",
   "metadata": {},
   "source": [
    "or"
   ]
  },
  {
   "cell_type": "code",
   "execution_count": 4,
   "id": "20755cc1",
   "metadata": {},
   "outputs": [],
   "source": [
    "def duplic(nums):\n",
    "    return len(nums)!=len(set(nums))"
   ]
  },
  {
   "cell_type": "code",
   "execution_count": 5,
   "id": "1bfd3738",
   "metadata": {},
   "outputs": [
    {
     "data": {
      "text/plain": [
       "True"
      ]
     },
     "execution_count": 5,
     "metadata": {},
     "output_type": "execute_result"
    }
   ],
   "source": [
    "duplic(nums)"
   ]
  },
  {
   "cell_type": "code",
   "execution_count": null,
   "id": "9d007fa3",
   "metadata": {},
   "outputs": [],
   "source": []
  }
 ],
 "metadata": {
  "kernelspec": {
   "display_name": "Python 3",
   "language": "python",
   "name": "python3"
  },
  "language_info": {
   "codemirror_mode": {
    "name": "ipython",
    "version": 3
   },
   "file_extension": ".py",
   "mimetype": "text/x-python",
   "name": "python",
   "nbconvert_exporter": "python",
   "pygments_lexer": "ipython3",
   "version": "3.8.8"
  }
 },
 "nbformat": 4,
 "nbformat_minor": 5
}
