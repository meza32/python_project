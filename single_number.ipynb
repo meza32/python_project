{
 "cells": [
  {
   "cell_type": "markdown",
   "id": "2ca69e66",
   "metadata": {},
   "source": [
    "Given a non-empty array of integers nums, every element appears twice except for one. Find that single one.\n",
    "\n",
    "You must implement a solution with a linear runtime complexity and use only constant extra space.\n",
    "\n",
    " \n",
    "\n",
    "Example 1:\n",
    "\n",
    "Input: nums = [2,2,1]\n",
    "    \n",
    "Output: 1\n",
    "    \n",
    "Example 2:\n",
    "\n",
    "Input: nums = [4,1,2,1,2]\n",
    "    \n",
    "Output: 4\n",
    "\n",
    "Example 3:\n",
    "\n",
    "Input: nums = [1]\n",
    "\n",
    "Output: 1"
   ]
  },
  {
   "cell_type": "code",
   "execution_count": 60,
   "id": "2613e077",
   "metadata": {},
   "outputs": [],
   "source": [
    "def single(nums):\n",
    "    hmap = set()\n",
    "    for i in range(len(nums)):\n",
    "        if nums[i] not in hmap:\n",
    "            hmap.add(nums[i])\n",
    "        elif nums[i] in hmap:\n",
    "            hmap.remove(nums[i])\n",
    "    \n",
    "    return list(hmap)[0]"
   ]
  },
  {
   "cell_type": "code",
   "execution_count": 74,
   "id": "dbb2bf7b",
   "metadata": {},
   "outputs": [
    {
     "data": {
      "text/plain": [
       "4"
      ]
     },
     "execution_count": 74,
     "metadata": {},
     "output_type": "execute_result"
    }
   ],
   "source": [
    "nums =[1,1,2,2,3,3,4,5,5,23,23]\n",
    "single(nums)"
   ]
  }
 ],
 "metadata": {
  "kernelspec": {
   "display_name": "Python 3",
   "language": "python",
   "name": "python3"
  },
  "language_info": {
   "codemirror_mode": {
    "name": "ipython",
    "version": 3
   },
   "file_extension": ".py",
   "mimetype": "text/x-python",
   "name": "python",
   "nbconvert_exporter": "python",
   "pygments_lexer": "ipython3",
   "version": "3.8.8"
  }
 },
 "nbformat": 4,
 "nbformat_minor": 5
}
