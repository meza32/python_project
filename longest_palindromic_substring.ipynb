{
 "cells": [
  {
   "cell_type": "markdown",
   "id": "1f2d2f66",
   "metadata": {},
   "source": [
    "Given a string s, return the longest palindromic substring in s.\n",
    "\n",
    "A string is called a palindrome string if the reverse of that string is the same as the original string.\n",
    "\n",
    " \n",
    "\n",
    "Example 1:\n",
    "\n",
    "Input: s = \"babad\"\n",
    "\n",
    "Output: \"bab\"\n",
    "\n",
    "Explanation: \"aba\" is also a valid answer.\n",
    "\n",
    "Example 2:\n",
    "\n",
    "\n",
    "Input: s = \"cbbd\"\n",
    "\n",
    "Output: \"bb\""
   ]
  },
  {
   "cell_type": "code",
   "execution_count": 32,
   "id": "b744aad6",
   "metadata": {},
   "outputs": [],
   "source": [
    "def palindrom (s):\n",
    "    pal={1:s[0]}\n",
    "    for l in range(len(s)):\n",
    "        r = len(s)-1\n",
    "        \n",
    "        if max(pal.keys()) >= r+1-l:\n",
    "            break\n",
    "        \n",
    "        while l < r :\n",
    "            \n",
    "            temp = s[l:r+1]\n",
    "            if max(pal.keys()) >= len(temp):\n",
    "                break\n",
    "            \n",
    "            if temp == temp[::-1]:\n",
    "                pal[len(temp)]= temp\n",
    "            r -= 1\n",
    "    return pal[max(pal.keys())]"
   ]
  },
  {
   "cell_type": "code",
   "execution_count": 33,
   "id": "a934e77f",
   "metadata": {},
   "outputs": [],
   "source": [
    "s = \"sadeyedipadanadapideyedmjsikalinnikaldd\""
   ]
  },
  {
   "cell_type": "code",
   "execution_count": 34,
   "id": "41651f63",
   "metadata": {},
   "outputs": [
    {
     "data": {
      "text/plain": [
       "'deyedipadanadapideyed'"
      ]
     },
     "execution_count": 34,
     "metadata": {},
     "output_type": "execute_result"
    }
   ],
   "source": [
    "palindrom(s)"
   ]
  },
  {
   "cell_type": "code",
   "execution_count": null,
   "id": "f222dcd3",
   "metadata": {},
   "outputs": [],
   "source": []
  }
 ],
 "metadata": {
  "kernelspec": {
   "display_name": "Python 3",
   "language": "python",
   "name": "python3"
  },
  "language_info": {
   "codemirror_mode": {
    "name": "ipython",
    "version": 3
   },
   "file_extension": ".py",
   "mimetype": "text/x-python",
   "name": "python",
   "nbconvert_exporter": "python",
   "pygments_lexer": "ipython3",
   "version": "3.8.8"
  }
 },
 "nbformat": 4,
 "nbformat_minor": 5
}
