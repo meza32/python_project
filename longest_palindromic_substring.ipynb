{
 "cells": [
  {
   "cell_type": "code",
   "execution_count": 32,
   "id": "b744aad6",
   "metadata": {},
   "outputs": [],
   "source": [
    "def palindrom (s):\n",
    "    pal={1:s[0]}\n",
    "    for l in range(len(s)):\n",
    "        r = len(s)-1\n",
    "        \n",
    "        if max(pal.keys()) >= r+1-l:\n",
    "            break\n",
    "        \n",
    "        while l < r :\n",
    "            \n",
    "            temp = s[l:r+1]\n",
    "            if max(pal.keys()) >= len(temp):\n",
    "                break\n",
    "            \n",
    "            if temp == temp[::-1]:\n",
    "                pal[len(temp)]= temp\n",
    "            r -= 1\n",
    "    return pal[max(pal.keys())]"
   ]
  },
  {
   "cell_type": "code",
   "execution_count": 33,
   "id": "a934e77f",
   "metadata": {},
   "outputs": [],
   "source": [
    "s = \"sadeyedipadanadapideyedmjsikalinnikaldd\""
   ]
  },
  {
   "cell_type": "code",
   "execution_count": 34,
   "id": "41651f63",
   "metadata": {},
   "outputs": [
    {
     "data": {
      "text/plain": [
       "'deyedipadanadapideyed'"
      ]
     },
     "execution_count": 34,
     "metadata": {},
     "output_type": "execute_result"
    }
   ],
   "source": [
    "palindrom(s)"
   ]
  },
  {
   "cell_type": "code",
   "execution_count": null,
   "id": "f222dcd3",
   "metadata": {},
   "outputs": [],
   "source": []
  }
 ],
 "metadata": {
  "kernelspec": {
   "display_name": "Python 3",
   "language": "python",
   "name": "python3"
  },
  "language_info": {
   "codemirror_mode": {
    "name": "ipython",
    "version": 3
   },
   "file_extension": ".py",
   "mimetype": "text/x-python",
   "name": "python",
   "nbconvert_exporter": "python",
   "pygments_lexer": "ipython3",
   "version": "3.8.8"
  }
 },
 "nbformat": 4,
 "nbformat_minor": 5
}
